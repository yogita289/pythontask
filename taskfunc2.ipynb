{
 "cells": [
  {
   "cell_type": "markdown",
   "metadata": {},
   "source": [
    "## task2\n"
   ]
  },
  {
   "cell_type": "markdown",
   "metadata": {},
   "source": [
    "## functions of Multiplication"
   ]
  },
  {
   "cell_type": "code",
   "execution_count": 1,
   "metadata": {},
   "outputs": [
    {
     "name": "stdout",
     "output_type": "stream",
     "text": [
      "operation provided is = multiply , and multiplication of p1 6 ,p2 8 , p3 12 is 576 \n"
     ]
    }
   ],
   "source": [
    "def doOperation(p1,p2,p3,p4):\n",
    "    print(f'operation provided is = {p4} , and multiplication of p1 {p1} ,p2 {p2} , p3 {p3} is {p1 * p2 * p3} ')\n",
    "\n",
    "doOperation(6,8,12,'multiply')"
   ]
  },
  {
   "cell_type": "code",
   "execution_count": 2,
   "metadata": {},
   "outputs": [
    {
     "name": "stdout",
     "output_type": "stream",
     "text": [
      "Operation provided is = multiply , multiplication of t1 14 , t2 16 is 224\n"
     ]
    }
   ],
   "source": [
    "def doOperation(t1,t2,t3):\n",
    "    print(f'Operation provided is = {t3} , multiplication of t1 {t1} , t2 {t2} is {t1 * t2}')\n",
    "\n",
    "doOperation(14,16,'multiply')"
   ]
  },
  {
   "cell_type": "markdown",
   "metadata": {},
   "source": [
    "## Division"
   ]
  },
  {
   "cell_type": "code",
   "execution_count": 3,
   "metadata": {},
   "outputs": [
    {
     "name": "stdout",
     "output_type": "stream",
     "text": [
      "operation provided is = divide , division of d1 1331 , d2 11 is 121.0\n"
     ]
    }
   ],
   "source": [
    "def doOperation(d1,d2,d3):\n",
    "    print(f'operation provided is = {d3} , division of d1 {d1} , d2 {d2} is {d1 / d2}')\n",
    "\n",
    "doOperation(1331,11,'divide')"
   ]
  },
  {
   "cell_type": "markdown",
   "metadata": {},
   "source": [
    "## substraction"
   ]
  },
  {
   "cell_type": "code",
   "execution_count": 6,
   "metadata": {},
   "outputs": [
    {
     "name": "stdout",
     "output_type": "stream",
     "text": [
      "operation provided is = subtract , subtraction of s1 9668 , s2 6666 is 3002\n"
     ]
    }
   ],
   "source": [
    "def divmod(s1,s2,s3):\n",
    "    print(f'operation provided is = {s3} , subtraction of s1 {s1} , s2 {s2} is {s1 - s2}')\n",
    "\n",
    "divmod(9668,6666,'subtract')"
   ]
  },
  {
   "cell_type": "code",
   "execution_count": 9,
   "metadata": {},
   "outputs": [
    {
     "name": "stdout",
     "output_type": "stream",
     "text": [
      "operation provided is = subtract , subtraction of s1 12345 , s2 12444 , s3 5555 is -5654\n"
     ]
    }
   ],
   "source": [
    "def divmod(s1,s2,s3,s4):\n",
    "    print(f'operation provided is = {s4} , subtraction of s1 {s1} , s2 {s2} , s3 {s3} is {s1 - s2 -s3}')\n",
    "\n",
    "divmod(12345,12444,5555,'subtract')"
   ]
  }
 ],
 "metadata": {
  "kernelspec": {
   "display_name": "Python 3",
   "language": "python",
   "name": "python3"
  },
  "language_info": {
   "codemirror_mode": {
    "name": "ipython",
    "version": 3
   },
   "file_extension": ".py",
   "mimetype": "text/x-python",
   "name": "python",
   "nbconvert_exporter": "python",
   "pygments_lexer": "ipython3",
   "version": "3.12.4"
  }
 },
 "nbformat": 4,
 "nbformat_minor": 2
}
